{
  "nbformat": 4,
  "nbformat_minor": 0,
  "metadata": {
    "colab": {
      "name": "get_stock_data.ipynb",
      "provenance": [],
      "collapsed_sections": [],
      "authorship_tag": "ABX9TyOt5TTGDiOEts/ZvqazO+VB",
      "include_colab_link": true
    },
    "kernelspec": {
      "name": "python3",
      "display_name": "Python 3"
    }
  },
  "cells": [
    {
      "cell_type": "markdown",
      "metadata": {
        "id": "view-in-github",
        "colab_type": "text"
      },
      "source": [
        "<a href=\"https://colab.research.google.com/github/einsteinxx/STOCKS_UTILS/blob/main/get_stock_data.ipynb\" target=\"_parent\"><img src=\"https://colab.research.google.com/assets/colab-badge.svg\" alt=\"Open In Colab\"/></a>"
      ]
    },
    {
      "cell_type": "code",
      "metadata": {
        "id": "H5HNlA-Cjmbe"
      },
      "source": [
        "import matplotlib as mpl\n",
        "mpl.rcParams['figure.dpi'] = 600\n",
        "\n",
        "### Imports\n",
        "%matplotlib inline \n",
        "#inline\n",
        "\n",
        "\n",
        "\n",
        "\n",
        "import os\n",
        "import sys\n",
        "import random\n",
        "import math\n",
        "import string\n",
        "import re\n",
        "import time\n",
        "import numpy as np\n",
        "import cv2\n",
        "import matplotlib\n",
        "import matplotlib.pyplot as plt\n",
        "import matplotlib.image as mpimg \n",
        "import matplotlib.patches as patches\n",
        "import imageio\n",
        "from pathlib import Path             #file path tools\n",
        "from shapely.geometry import Polygon #make polygons for Intersections\n",
        "from PIL import Image  \n",
        "import datetime\n",
        "\n",
        "import json\n",
        "import pandas as pd\n",
        "\n",
        "import csv\n",
        "!pip3 install -q yfinance #scipy==1.2.0\n",
        "import yfinance as yf"
      ],
      "execution_count": null,
      "outputs": []
    },
    {
      "cell_type": "code",
      "metadata": {
        "id": "x48Dgob8xPWC",
        "outputId": "9c79c4d2-a0b3-44a2-b341-bb313ea315ff",
        "colab": {
          "base_uri": "https://localhost:8080/",
          "height": 450
        }
      },
      "source": [
        "#define the ticker symbol\n",
        "tickerSymbol = 'ANPC'\n",
        "tickerSymbols =['ANPC','NIO']\n",
        "\n",
        "#get data on this ticker\n",
        "tData = {}\n",
        "tDataDf ={}\n",
        "tickerData = yf.Ticker(tickerSymbol)\n",
        "for ii in tickerSymbols:\n",
        "    tData[ii] = yf.Ticker(ii)\n",
        "    tDataDf[ii] = tData[ii].history(period='1d', start='2010-1-1', end='2020-10-25') \n",
        "\n",
        "#get the historical prices for this ticker\n",
        "tickerDf = tickerData.history(period='1d', start='2010-1-1', end='2020-10-25')\n",
        "\n",
        "#see your data\n",
        "tickerDf\n"
      ],
      "execution_count": null,
      "outputs": [
        {
          "output_type": "execute_result",
          "data": {
            "text/html": [
              "<div>\n",
              "<style scoped>\n",
              "    .dataframe tbody tr th:only-of-type {\n",
              "        vertical-align: middle;\n",
              "    }\n",
              "\n",
              "    .dataframe tbody tr th {\n",
              "        vertical-align: top;\n",
              "    }\n",
              "\n",
              "    .dataframe thead th {\n",
              "        text-align: right;\n",
              "    }\n",
              "</style>\n",
              "<table border=\"1\" class=\"dataframe\">\n",
              "  <thead>\n",
              "    <tr style=\"text-align: right;\">\n",
              "      <th></th>\n",
              "      <th>Open</th>\n",
              "      <th>High</th>\n",
              "      <th>Low</th>\n",
              "      <th>Close</th>\n",
              "      <th>Volume</th>\n",
              "      <th>Dividends</th>\n",
              "      <th>Stock Splits</th>\n",
              "    </tr>\n",
              "    <tr>\n",
              "      <th>Date</th>\n",
              "      <th></th>\n",
              "      <th></th>\n",
              "      <th></th>\n",
              "      <th></th>\n",
              "      <th></th>\n",
              "      <th></th>\n",
              "      <th></th>\n",
              "    </tr>\n",
              "  </thead>\n",
              "  <tbody>\n",
              "    <tr>\n",
              "      <th>2020-01-31</th>\n",
              "      <td>10.990</td>\n",
              "      <td>11.200</td>\n",
              "      <td>9.660</td>\n",
              "      <td>10.120</td>\n",
              "      <td>107400</td>\n",
              "      <td>0</td>\n",
              "      <td>0</td>\n",
              "    </tr>\n",
              "    <tr>\n",
              "      <th>2020-02-03</th>\n",
              "      <td>10.090</td>\n",
              "      <td>10.910</td>\n",
              "      <td>10.090</td>\n",
              "      <td>10.620</td>\n",
              "      <td>39200</td>\n",
              "      <td>0</td>\n",
              "      <td>0</td>\n",
              "    </tr>\n",
              "    <tr>\n",
              "      <th>2020-02-04</th>\n",
              "      <td>10.624</td>\n",
              "      <td>10.893</td>\n",
              "      <td>9.842</td>\n",
              "      <td>10.640</td>\n",
              "      <td>31300</td>\n",
              "      <td>0</td>\n",
              "      <td>0</td>\n",
              "    </tr>\n",
              "    <tr>\n",
              "      <th>2020-02-05</th>\n",
              "      <td>10.600</td>\n",
              "      <td>10.600</td>\n",
              "      <td>9.800</td>\n",
              "      <td>10.000</td>\n",
              "      <td>44600</td>\n",
              "      <td>0</td>\n",
              "      <td>0</td>\n",
              "    </tr>\n",
              "    <tr>\n",
              "      <th>2020-02-06</th>\n",
              "      <td>10.150</td>\n",
              "      <td>10.250</td>\n",
              "      <td>9.800</td>\n",
              "      <td>10.010</td>\n",
              "      <td>23700</td>\n",
              "      <td>0</td>\n",
              "      <td>0</td>\n",
              "    </tr>\n",
              "    <tr>\n",
              "      <th>...</th>\n",
              "      <td>...</td>\n",
              "      <td>...</td>\n",
              "      <td>...</td>\n",
              "      <td>...</td>\n",
              "      <td>...</td>\n",
              "      <td>...</td>\n",
              "      <td>...</td>\n",
              "    </tr>\n",
              "    <tr>\n",
              "      <th>2020-10-09</th>\n",
              "      <td>3.890</td>\n",
              "      <td>3.950</td>\n",
              "      <td>3.760</td>\n",
              "      <td>3.854</td>\n",
              "      <td>18800</td>\n",
              "      <td>0</td>\n",
              "      <td>0</td>\n",
              "    </tr>\n",
              "    <tr>\n",
              "      <th>2020-10-12</th>\n",
              "      <td>3.860</td>\n",
              "      <td>3.990</td>\n",
              "      <td>3.200</td>\n",
              "      <td>3.700</td>\n",
              "      <td>93100</td>\n",
              "      <td>0</td>\n",
              "      <td>0</td>\n",
              "    </tr>\n",
              "    <tr>\n",
              "      <th>2020-10-13</th>\n",
              "      <td>3.850</td>\n",
              "      <td>3.850</td>\n",
              "      <td>3.580</td>\n",
              "      <td>3.580</td>\n",
              "      <td>14800</td>\n",
              "      <td>0</td>\n",
              "      <td>0</td>\n",
              "    </tr>\n",
              "    <tr>\n",
              "      <th>2020-10-14</th>\n",
              "      <td>3.600</td>\n",
              "      <td>3.670</td>\n",
              "      <td>3.520</td>\n",
              "      <td>3.520</td>\n",
              "      <td>8300</td>\n",
              "      <td>0</td>\n",
              "      <td>0</td>\n",
              "    </tr>\n",
              "    <tr>\n",
              "      <th>2020-10-15</th>\n",
              "      <td>3.607</td>\n",
              "      <td>3.607</td>\n",
              "      <td>3.390</td>\n",
              "      <td>3.520</td>\n",
              "      <td>21000</td>\n",
              "      <td>0</td>\n",
              "      <td>0</td>\n",
              "    </tr>\n",
              "  </tbody>\n",
              "</table>\n",
              "<p>180 rows × 7 columns</p>\n",
              "</div>"
            ],
            "text/plain": [
              "              Open    High     Low   Close  Volume  Dividends  Stock Splits\n",
              "Date                                                                       \n",
              "2020-01-31  10.990  11.200   9.660  10.120  107400          0             0\n",
              "2020-02-03  10.090  10.910  10.090  10.620   39200          0             0\n",
              "2020-02-04  10.624  10.893   9.842  10.640   31300          0             0\n",
              "2020-02-05  10.600  10.600   9.800  10.000   44600          0             0\n",
              "2020-02-06  10.150  10.250   9.800  10.010   23700          0             0\n",
              "...            ...     ...     ...     ...     ...        ...           ...\n",
              "2020-10-09   3.890   3.950   3.760   3.854   18800          0             0\n",
              "2020-10-12   3.860   3.990   3.200   3.700   93100          0             0\n",
              "2020-10-13   3.850   3.850   3.580   3.580   14800          0             0\n",
              "2020-10-14   3.600   3.670   3.520   3.520    8300          0             0\n",
              "2020-10-15   3.607   3.607   3.390   3.520   21000          0             0\n",
              "\n",
              "[180 rows x 7 columns]"
            ]
          },
          "metadata": {
            "tags": []
          },
          "execution_count": 152
        }
      ]
    },
    {
      "cell_type": "code",
      "metadata": {
        "id": "Zc-v4lP8y8ZY",
        "outputId": "66249b4b-be25-4581-f468-385ffd744dbd",
        "colab": {
          "base_uri": "https://localhost:8080/",
          "height": 35
        }
      },
      "source": [
        "np.shape(tickerDf)\n",
        "\n",
        "closing_dates_dict={}\n",
        "closing_vals_dict={}\n",
        "for keyname in tDataDf.keys():\n",
        "    closing_dates_dict[keyname] = tDataDf[keyname].index\n",
        "    closing_dates_dict[keyname] = closing_dates_dict[keyname].values.astype('datetime64[s]')\n",
        "    closing_vals_dict[keyname] = tDataDf[keyname]['Close']\n",
        "\n",
        "closing_val = tickerDf['Close']\n",
        "\n",
        "closing_dates =tickerDf.index\n",
        "\n",
        "# df['Time'] = df['Time'].astype('datetime64[s]')\n",
        "print(type(closing_dates))\n",
        "dt = closing_dates.values\n",
        "closing_dates =closing_dates.values.astype('datetime64[s]')\n",
        "\n"
      ],
      "execution_count": null,
      "outputs": [
        {
          "output_type": "stream",
          "text": [
            "<class 'pandas.core.indexes.datetimes.DatetimeIndex'>\n"
          ],
          "name": "stdout"
        }
      ]
    },
    {
      "cell_type": "code",
      "metadata": {
        "id": "-N3886es_Y5F"
      },
      "source": [
        "\n",
        "#dd = '2018-06-29T08:15:27.2438601'\n",
        "#print(type(dd))\n",
        "#date_time_str = dd\n",
        "\n",
        "day_dict = {}\n",
        "month_dict={}\n",
        "year_dict = {}\n",
        "for keyname in closing_dates_dict.keys():\n",
        "    day_dict[keyname] = []\n",
        "    month_dict[keyname]=[]\n",
        "    year_dict[keyname] = []\n",
        "    for ii in closing_dates_dict[keyname]:\n",
        "        date_time_obj = datetime.datetime.strptime(str(ii),\"%Y-%m-%dT%H:%M:%S\")\n",
        "        year_dict[keyname].append(date_time_obj.year)\n",
        "        month_dict[keyname].append(date_time_obj.month)\n",
        "        day_dict[keyname].append(date_time_obj.day)\n",
        "\n",
        "\n",
        "###################\n",
        "day = []\n",
        "month=[]\n",
        "year=[]\n",
        "for ii in closing_dates:\n",
        "    date_time_obj = datetime.datetime.strptime(str(ii),\"%Y-%m-%dT%H:%M:%S\")\n",
        "                                           #'%Y-%m-%dT%H:%M:%S.%f')\n",
        "\n",
        "    #print('Date:', date_time_obj.date())\n",
        "    #print('Time:', date_time_obj.time())\n",
        "    #print('Date-time:', date_time_obj)\n",
        "    year.append(date_time_obj.year)\n",
        "    month.append(date_time_obj.month)\n",
        "    day.append(date_time_obj.day)\n"
      ],
      "execution_count": null,
      "outputs": []
    },
    {
      "cell_type": "code",
      "metadata": {
        "id": "VbhN5k0IIyXr",
        "outputId": "dd0858d6-0159-4c2f-ea43-3f02959ca160",
        "colab": {
          "base_uri": "https://localhost:8080/",
          "height": 557
        }
      },
      "source": [
        "import matplotlib.dates as dates\n",
        "\n",
        "\n",
        "del dt\n",
        "import datetime as dt\n",
        "\n",
        "\n",
        "\n",
        "new_x ={}\n",
        "for keyname in year_dict.keys():\n",
        "    new_x[keyname]=[]\n",
        "    for ii in range(0,len(day_dict[keyname])):\n",
        "        newdate = str(year_dict[keyname][ii]) + '/' + str(month_dict[keyname][ii]).zfill(2) + '/' + str(day_dict[keyname][ii]).zfill(2)\n",
        "        x = dt.datetime.strptime(newdate,'%Y/%m/%d').date()\n",
        "        new_x[keyname].append(x)\n",
        "\n",
        "\n",
        "\n",
        "\n",
        "import matplotlib.dates as mdates\n",
        "\n",
        "for keyname in closing_vals_dict.keys():\n",
        "    y = closing_vals_dict[keyname]\n",
        "    #get interval for date tics\n",
        "    tic_interval = np.int(len(closing_vals_dict[keyname])/20)\n",
        "    plt.figure()\n",
        "    plt.title(keyname)\n",
        "    plt.gca().xaxis.set_major_formatter(mdates.DateFormatter('%Y/%m/%d'))\n",
        "    plt.gca().xaxis.set_major_locator(mdates.DayLocator(interval=tic_interval))\n",
        "    plt.plot(new_x[keyname],y)\n",
        "    plt.gcf().autofmt_xdate()"
      ],
      "execution_count": null,
      "outputs": [
        {
          "output_type": "display_data",
          "data": {
            "image/png": "[encoded data removed]",
            "text/plain": [
              "<Figure size 432x288 with 1 Axes>"
            ]
          },
          "metadata": {
            "tags": [],
            "needs_background": "light"
          }
        },
        {
          "output_type": "display_data",
          "data": {
            "image/png": "[encoded data removed]",
            "text/plain": [
              "<Figure size 432x288 with 1 Axes>"
            ]
          },
          "metadata": {
            "tags": [],
            "needs_background": "light"
          }
        }
      ]
    },
    {
      "cell_type": "code",
      "metadata": {
        "id": "ejWonWcQn4OM",
        "outputId": "79cb18d5-506d-40cb-b599-399cc177382a",
        "colab": {
          "base_uri": "https://localhost:8080/",
          "height": 89
        }
      },
      "source": [
        "\n",
        "ix = list(set(new_x['NIO']).intersection(new_x['ANPC']))\n",
        "print(type(ix))\n",
        "print(ix[0])\n",
        "print(type(ix[0]))\n",
        "ix.sort() #sort is in place, so don't assign it, it changes the list in memory\n",
        "ix[0]"
      ],
      "execution_count": 183,
      "outputs": [
        {
          "output_type": "stream",
          "text": [
            "<class 'list'>\n",
            "2020-10-05\n",
            "<class 'datetime.date'>\n"
          ],
          "name": "stdout"
        },
        {
          "output_type": "execute_result",
          "data": {
            "text/plain": [
              "datetime.date(2020, 1, 31)"
            ]
          },
          "metadata": {
            "tags": []
          },
          "execution_count": 183
        }
      ]
    }
  ]
}